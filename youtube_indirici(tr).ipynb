{
 "cells": [
  {
   "cell_type": "code",
   "execution_count": 1,
   "metadata": {},
   "outputs": [
    {
     "name": "stdout",
     "output_type": "stream",
     "text": [
      "youtube ses indirici\n"
     ]
    }
   ],
   "source": [
    "print('youtube ses indirici')\n",
    "\n",
    "# Çalıştırdıktan sonra kullanıcının input olarak web sitesi url'sini girmesi gerektiğini unutmayın. "
   ]
  },
  {
   "cell_type": "code",
   "execution_count": 2,
   "metadata": {},
   "outputs": [
    {
     "name": "stdout",
     "output_type": "stream",
     "text": [
      "Ses başarıyla \"indirilen_ses_2.mp3\" olarak indirildi!\n"
     ]
    }
   ],
   "source": [
    "from pytube import YouTube\n",
    "import os\n",
    "from pydub import AudioSegment\n",
    "\n",
    "try:\n",
    "    # Kullanıcıdan video URL'sini al\n",
    "    video_url = input(\"Lütfen indirmek istediğiniz YouTube video URL'sini girin: \")\n",
    "    \n",
    "    # YouTube objesini oluştur\n",
    "    yt = YouTube(video_url)\n",
    "    \n",
    "    # En yüksek kaliteli ses akışını seç\n",
    "    audio_stream = yt.streams.filter(only_audio=True).first()\n",
    "    \n",
    "    # Kayıt edilecek dosyanın adını oluştur\n",
    "    base_filename = 'indirilen_ses.mp4'\n",
    "    filename = base_filename\n",
    "    count = 1\n",
    "    while os.path.exists(os.path.join('/Users/berkaydiril/Desktop/English Project/', filename)):\n",
    "        filename = f\"{os.path.splitext(base_filename)[0]}_{count}{os.path.splitext(base_filename)[1]}\"\n",
    "        count += 1\n",
    "    \n",
    "    # Dosyayı indir\n",
    "    audio_file_path = audio_stream.download('/Users/berkaydiril/Desktop/English Project/', filename=filename)\n",
    "    \n",
    "    # mp3 için benzersiz dosya adı oluştur\n",
    "    base_mp3_filename = os.path.splitext(filename)[0] + '.mp3'\n",
    "    mp3_filename = base_mp3_filename\n",
    "    count = 1\n",
    "    while os.path.exists(os.path.join('/Users/berkaydiril/Desktop/English Project/', mp3_filename)):\n",
    "        mp3_filename = f\"{os.path.splitext(base_mp3_filename)[0]}_{count}{os.path.splitext(base_mp3_filename)[1]}\"\n",
    "        count += 1\n",
    "    mp3_file_path = os.path.join('/Users/berkaydiril/Desktop/English Project/', mp3_filename)\n",
    "    \n",
    "    # İndirilen dosyayı mp3 formatına dönüştür\n",
    "    audio = AudioSegment.from_file(audio_file_path)\n",
    "    audio.export(mp3_file_path, format=\"mp3\")\n",
    "    \n",
    "    # Geçici mp4 dosyasını sil\n",
    "    os.remove(audio_file_path)\n",
    "    \n",
    "    print(f'Ses başarıyla \"{mp3_filename}\" olarak indirildi!')\n",
    "except Exception as e:\n",
    "    print(f'Hata oluştu: {str(e)}')"
   ]
  },
  {
   "cell_type": "code",
   "execution_count": 3,
   "metadata": {},
   "outputs": [
    {
     "name": "stdout",
     "output_type": "stream",
     "text": [
      "kısım 2 - video indirici\n"
     ]
    }
   ],
   "source": [
    "print('kısım 2 - video indirici')"
   ]
  },
  {
   "cell_type": "code",
   "execution_count": 4,
   "metadata": {},
   "outputs": [
    {
     "name": "stdout",
     "output_type": "stream",
     "text": [
      "Video başarıyla \"indirilen_video_1.mp4\" olarak indirildi!\n"
     ]
    }
   ],
   "source": [
    "from pytube import YouTube\n",
    "import os\n",
    "\n",
    "try:\n",
    "    # Kullanıcıdan video URL'sini al\n",
    "    video_url = input(\"Lütfen indirmek istediğiniz YouTube video URL'sini girin: \")\n",
    "    \n",
    "    # YouTube objesini oluştur\n",
    "    yt = YouTube(video_url)\n",
    "    \n",
    "    # En yüksek çözünürlükteki mp4 formatındaki videoyu seç\n",
    "    video = yt.streams.filter(file_extension='mp4', progressive=True).order_by('resolution').desc().first()\n",
    "    \n",
    "    if video is None:\n",
    "        raise Exception(\"Uygun bir video akışı bulunamadı.\")\n",
    "    \n",
    "    # İndirme işlemi (video ve ses birlikte)\n",
    "    video_stream = yt.streams.get_by_itag(video.itag)\n",
    "    \n",
    "    # Kayıt edilecek dosyanın adını oluştur\n",
    "    base_filename = 'indirilen_video.mp4'\n",
    "    filename = base_filename\n",
    "    count = 1\n",
    "    while os.path.exists(os.path.join('/Users/berkaydiril/Desktop/English Project/', filename)):\n",
    "        filename = f\"{os.path.splitext(base_filename)[0]}_{count}{os.path.splitext(base_filename)[1]}\"\n",
    "        count += 1\n",
    "    \n",
    "    # Dosyayı indir\n",
    "    video_stream.download('/Users/berkaydiril/Desktop/English Project/', filename=filename)\n",
    "    \n",
    "    print(f'Video başarıyla \"{filename}\" olarak indirildi!')\n",
    "except Exception as e:\n",
    "    print(f'Hata oluştu: {str(e)}')"
   ]
  },
  {
   "cell_type": "code",
   "execution_count": 5,
   "metadata": {},
   "outputs": [
    {
     "name": "stdout",
     "output_type": "stream",
     "text": [
      "Teşekkürler\n"
     ]
    }
   ],
   "source": [
    "print('Teşekkürler')"
   ]
  }
 ],
 "metadata": {
  "kernelspec": {
   "display_name": "Python 3",
   "language": "python",
   "name": "python3"
  },
  "language_info": {
   "codemirror_mode": {
    "name": "ipython",
    "version": 3
   },
   "file_extension": ".py",
   "mimetype": "text/x-python",
   "name": "python",
   "nbconvert_exporter": "python",
   "pygments_lexer": "ipython3",
   "version": "3.9.6"
  }
 },
 "nbformat": 4,
 "nbformat_minor": 2
}
