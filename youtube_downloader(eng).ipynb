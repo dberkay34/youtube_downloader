{
 "cells": [
  {
   "cell_type": "code",
   "execution_count": 1,
   "metadata": {},
   "outputs": [
    {
     "name": "stdout",
     "output_type": "stream",
     "text": [
      "youtube audio downloader\n"
     ]
    }
   ],
   "source": [
    "print('youtube audio downloader')\n",
    "\n",
    "# Note that it requires the website url as input from the user after it starts running. "
   ]
  },
  {
   "cell_type": "code",
   "execution_count": 2,
   "metadata": {},
   "outputs": [
    {
     "name": "stdout",
     "output_type": "stream",
     "text": [
      "Audio successfully downloaded as \"downloaded_audio_3.mp3\"!\n"
     ]
    }
   ],
   "source": [
    "from pytube import YouTube\n",
    "import os\n",
    "from pydub import AudioSegment\n",
    "\n",
    "try:\n",
    "    # Get the video URL from the user\n",
    "    video_url = input(\"Please enter the YouTube video URL you want to download: \")\n",
    "    \n",
    "    # Create YouTube object\n",
    "    yt = YouTube(video_url)\n",
    "    \n",
    "    # Select the highest quality audio stream\n",
    "    audio_stream = yt.streams.filter(only_audio=True).first()\n",
    "    \n",
    "    # Create the filename to save\n",
    "    base_filename = 'downloaded_audio.mp4'\n",
    "    filename = base_filename\n",
    "    count = 1\n",
    "    while os.path.exists(os.path.join('/Users/berkaydiril/Desktop/English Project/', filename)):\n",
    "        filename = f\"{os.path.splitext(base_filename)[0]}_{count}{os.path.splitext(base_filename)[1]}\"\n",
    "        count += 1\n",
    "    \n",
    "    # Download the file\n",
    "    audio_file_path = audio_stream.download('/Users/berkaydiril/Desktop/English Project/', filename=filename)\n",
    "    \n",
    "    # Generate a unique filename for mp3\n",
    "    base_mp3_filename = os.path.splitext(filename)[0] + '.mp3'\n",
    "    mp3_filename = base_mp3_filename\n",
    "    count = 1\n",
    "    while os.path.exists(os.path.join('/Users/berkaydiril/Desktop/English Project/', mp3_filename)):\n",
    "        mp3_filename = f\"{os.path.splitext(base_mp3_filename)[0]}_{count}{os.path.splitext(base_mp3_filename)[1]}\"\n",
    "        count += 1\n",
    "    mp3_file_path = os.path.join('/Users/berkaydiril/Desktop/English Project/', mp3_filename)\n",
    "    \n",
    "    # Convert the downloaded file to mp3 format\n",
    "    audio = AudioSegment.from_file(audio_file_path)\n",
    "    audio.export(mp3_file_path, format=\"mp3\")\n",
    "    \n",
    "    # Remove the temporary mp4 file\n",
    "    os.remove(audio_file_path)\n",
    "    \n",
    "    print(f'Audio successfully downloaded as \"{mp3_filename}\"!')\n",
    "except Exception as e:\n",
    "    print(f'An error occurred: {str(e)}')"
   ]
  },
  {
   "cell_type": "code",
   "execution_count": 3,
   "metadata": {},
   "outputs": [
    {
     "name": "stdout",
     "output_type": "stream",
     "text": [
      "part 2 - video downloader\n"
     ]
    }
   ],
   "source": [
    "print('part 2 - video downloader')"
   ]
  },
  {
   "cell_type": "code",
   "execution_count": 4,
   "metadata": {},
   "outputs": [
    {
     "name": "stdout",
     "output_type": "stream",
     "text": [
      "Video successfully downloaded as \"downloaded_video_8.mp4\"!\n"
     ]
    }
   ],
   "source": [
    "from pytube import YouTube\n",
    "import os\n",
    "\n",
    "try:\n",
    "    # Get the video URL from the user\n",
    "    video_url = input(\"Please enter the YouTube video URL you want to download: \")\n",
    "    \n",
    "    # Create YouTube object\n",
    "    yt = YouTube(video_url)\n",
    "    \n",
    "    # Select the highest resolution mp4 format video\n",
    "    video = yt.streams.filter(file_extension='mp4', progressive=True).order_by('resolution').desc().first()\n",
    "    \n",
    "    if video is None:\n",
    "        raise Exception(\"No suitable video stream found.\")\n",
    "    \n",
    "    # Download the video and audio together\n",
    "    video_stream = yt.streams.get_by_itag(video.itag)\n",
    "    \n",
    "    # Create the filename to save\n",
    "    base_filename = 'downloaded_video.mp4'\n",
    "    filename = base_filename\n",
    "    count = 1\n",
    "    while os.path.exists(os.path.join('/Users/berkaydiril/Desktop/English Project/', filename)):\n",
    "        filename = f\"{os.path.splitext(base_filename)[0]}_{count}{os.path.splitext(base_filename)[1]}\"\n",
    "        count += 1\n",
    "    \n",
    "    # Download the file\n",
    "    video_stream.download('/Users/berkaydiril/Desktop/English Project/', filename=filename)\n",
    "    \n",
    "    print(f'Video successfully downloaded as \"{filename}\"!')\n",
    "except Exception as e:\n",
    "    print(f'An error occurred: {str(e)}')\n"
   ]
  },
  {
   "cell_type": "code",
   "execution_count": 5,
   "metadata": {},
   "outputs": [
    {
     "name": "stdout",
     "output_type": "stream",
     "text": [
      "Thank you\n"
     ]
    }
   ],
   "source": [
    "print('Thank you')"
   ]
  }
 ],
 "metadata": {
  "kernelspec": {
   "display_name": "Python 3",
   "language": "python",
   "name": "python3"
  },
  "language_info": {
   "codemirror_mode": {
    "name": "ipython",
    "version": 3
   },
   "file_extension": ".py",
   "mimetype": "text/x-python",
   "name": "python",
   "nbconvert_exporter": "python",
   "pygments_lexer": "ipython3",
   "version": "3.9.6"
  }
 },
 "nbformat": 4,
 "nbformat_minor": 2
}
